{
 "metadata": {
  "language_info": {
   "codemirror_mode": {
    "name": "ipython",
    "version": 3
   },
   "file_extension": ".py",
   "mimetype": "text/x-python",
   "name": "python",
   "nbconvert_exporter": "python",
   "pygments_lexer": "ipython3",
   "version": "3.9.2"
  },
  "orig_nbformat": 2,
  "kernelspec": {
   "name": "python3",
   "display_name": "Python 3.9.2 64-bit ('tgs': conda)",
   "metadata": {
    "interpreter": {
     "hash": "382ef399a0ff653b8061668e8a3d84d4332291ac043f54df5d5702f9c351944c"
    }
   }
  }
 },
 "nbformat": 4,
 "nbformat_minor": 2,
 "cells": [
  {
   "cell_type": "code",
   "execution_count": 1,
   "metadata": {},
   "outputs": [
    {
     "output_type": "stream",
     "name": "stdout",
     "text": [
      "{'train': [], 'val': [{'scene_name': 'sear_steak', 'cur_frame': 'colmap_0', 'next_frame': 'colmap_1', 'keyframe': 1}, {'scene_name': 'sear_steak', 'cur_frame': 'colmap_0', 'next_frame': 'colmap_2', 'keyframe': 0}, {'scene_name': 'sear_steak', 'cur_frame': 'colmap_0', 'next_frame': 'colmap_3', 'keyframe': 0}, {'scene_name': 'sear_steak', 'cur_frame': 'colmap_0', 'next_frame': 'colmap_4', 'keyframe': 0}, {'scene_name': 'sear_steak', 'cur_frame': 'colmap_0', 'next_frame': 'colmap_5', 'keyframe': 0}, {'scene_name': 'sear_steak', 'cur_frame': 'colmap_5', 'next_frame': 'colmap_6', 'keyframe': 1}, {'scene_name': 'sear_steak', 'cur_frame': 'colmap_5', 'next_frame': 'colmap_7', 'keyframe': 0}, {'scene_name': 'sear_steak', 'cur_frame': 'colmap_5', 'next_frame': 'colmap_8', 'keyframe': 0}, {'scene_name': 'sear_steak', 'cur_frame': 'colmap_5', 'next_frame': 'colmap_9', 'keyframe': 0}, {'scene_name': 'sear_steak', 'cur_frame': 'colmap_5', 'next_frame': 'colmap_10', 'keyframe': 0}, {'scene_name': 'sear_steak', 'cur_frame': 'colmap_10', 'next_frame': 'colmap_11', 'keyframe': 1}, {'scene_name': 'sear_steak', 'cur_frame': 'colmap_10', 'next_frame': 'colmap_12', 'keyframe': 0}, {'scene_name': 'sear_steak', 'cur_frame': 'colmap_10', 'next_frame': 'colmap_13', 'keyframe': 0}, {'scene_name': 'sear_steak', 'cur_frame': 'colmap_10', 'next_frame': 'colmap_14', 'keyframe': 0}, {'scene_name': 'sear_steak', 'cur_frame': 'colmap_10', 'next_frame': 'colmap_15', 'keyframe': 0}, {'scene_name': 'sear_steak', 'cur_frame': 'colmap_15', 'next_frame': 'colmap_16', 'keyframe': 1}, {'scene_name': 'sear_steak', 'cur_frame': 'colmap_15', 'next_frame': 'colmap_17', 'keyframe': 0}, {'scene_name': 'sear_steak', 'cur_frame': 'colmap_15', 'next_frame': 'colmap_18', 'keyframe': 0}, {'scene_name': 'sear_steak', 'cur_frame': 'colmap_15', 'next_frame': 'colmap_19', 'keyframe': 0}, {'scene_name': 'sear_steak', 'cur_frame': 'colmap_15', 'next_frame': 'colmap_20', 'keyframe': 0}, {'scene_name': 'sear_steak', 'cur_frame': 'colmap_20', 'next_frame': 'colmap_21', 'keyframe': 1}, {'scene_name': 'sear_steak', 'cur_frame': 'colmap_20', 'next_frame': 'colmap_22', 'keyframe': 0}, {'scene_name': 'sear_steak', 'cur_frame': 'colmap_20', 'next_frame': 'colmap_23', 'keyframe': 0}, {'scene_name': 'sear_steak', 'cur_frame': 'colmap_20', 'next_frame': 'colmap_24', 'keyframe': 0}, {'scene_name': 'sear_steak', 'cur_frame': 'colmap_20', 'next_frame': 'colmap_25', 'keyframe': 0}, {'scene_name': 'sear_steak', 'cur_frame': 'colmap_25', 'next_frame': 'colmap_26', 'keyframe': 1}, {'scene_name': 'sear_steak', 'cur_frame': 'colmap_25', 'next_frame': 'colmap_27', 'keyframe': 0}, {'scene_name': 'sear_steak', 'cur_frame': 'colmap_25', 'next_frame': 'colmap_28', 'keyframe': 0}, {'scene_name': 'sear_steak', 'cur_frame': 'colmap_25', 'next_frame': 'colmap_29', 'keyframe': 0}, {'scene_name': 'sear_steak', 'cur_frame': 'colmap_25', 'next_frame': 'colmap_30', 'keyframe': 0}, {'scene_name': 'sear_steak', 'cur_frame': 'colmap_30', 'next_frame': 'colmap_31', 'keyframe': 1}, {'scene_name': 'sear_steak', 'cur_frame': 'colmap_30', 'next_frame': 'colmap_32', 'keyframe': 0}, {'scene_name': 'sear_steak', 'cur_frame': 'colmap_30', 'next_frame': 'colmap_33', 'keyframe': 0}, {'scene_name': 'sear_steak', 'cur_frame': 'colmap_30', 'next_frame': 'colmap_34', 'keyframe': 0}, {'scene_name': 'sear_steak', 'cur_frame': 'colmap_30', 'next_frame': 'colmap_35', 'keyframe': 0}, {'scene_name': 'sear_steak', 'cur_frame': 'colmap_35', 'next_frame': 'colmap_36', 'keyframe': 1}, {'scene_name': 'sear_steak', 'cur_frame': 'colmap_35', 'next_frame': 'colmap_37', 'keyframe': 0}, {'scene_name': 'sear_steak', 'cur_frame': 'colmap_35', 'next_frame': 'colmap_38', 'keyframe': 0}, {'scene_name': 'sear_steak', 'cur_frame': 'colmap_35', 'next_frame': 'colmap_39', 'keyframe': 0}, {'scene_name': 'sear_steak', 'cur_frame': 'colmap_35', 'next_frame': 'colmap_40', 'keyframe': 0}, {'scene_name': 'sear_steak', 'cur_frame': 'colmap_40', 'next_frame': 'colmap_41', 'keyframe': 1}, {'scene_name': 'sear_steak', 'cur_frame': 'colmap_40', 'next_frame': 'colmap_42', 'keyframe': 0}, {'scene_name': 'sear_steak', 'cur_frame': 'colmap_40', 'next_frame': 'colmap_43', 'keyframe': 0}, {'scene_name': 'sear_steak', 'cur_frame': 'colmap_40', 'next_frame': 'colmap_44', 'keyframe': 0}, {'scene_name': 'sear_steak', 'cur_frame': 'colmap_40', 'next_frame': 'colmap_45', 'keyframe': 0}, {'scene_name': 'sear_steak', 'cur_frame': 'colmap_45', 'next_frame': 'colmap_46', 'keyframe': 1}, {'scene_name': 'sear_steak', 'cur_frame': 'colmap_45', 'next_frame': 'colmap_47', 'keyframe': 0}, {'scene_name': 'sear_steak', 'cur_frame': 'colmap_45', 'next_frame': 'colmap_48', 'keyframe': 0}, {'scene_name': 'sear_steak', 'cur_frame': 'colmap_45', 'next_frame': 'colmap_49', 'keyframe': 0}]}\n"
     ]
    }
   ],
   "source": [
    "# 构建eval序列\n",
    "import random\n",
    "import os\n",
    "import json\n",
    "\n",
    "\n",
    "ROOT_DIR = \"root dir\"\n",
    "name = \"your scene name\"\n",
    "\n",
    "\n",
    "total_item_list = []\n",
    "total_frame = 50\n",
    "w = 5\n",
    "for start_idx in range(total_frame-1):\n",
    "    start = int(start_idx/w)*w\n",
    "    keyframe = 0\n",
    "    if start_idx % w ==0:\n",
    "        keyframe=1        \n",
    "    total_item_list.append({\"scene_name\":name, \"cur_frame\": f\"colmap_{start}\", \"next_frame\": f\"colmap_{start_idx+1}\", \"keyframe\":keyframe})\n",
    "\n",
    "full_dict = {\"train\":[], \"val\": total_item_list}\n",
    "print(full_dict)\n",
    "filename = os.path.join(ROOT_DIR, name+f\"_total_{total_frame}_interval_{w}.json\")\n",
    "\n",
    "with open(filename, 'w', encoding='utf-8') as f:\n",
    "    json.dump(full_dict, f, ensure_ascii=False,indent=4)"
   ]
  }
 ]
}