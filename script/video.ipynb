{
 "metadata": {
  "language_info": {
   "codemirror_mode": {
    "name": "ipython",
    "version": 3
   },
   "file_extension": ".py",
   "mimetype": "text/x-python",
   "name": "python",
   "nbconvert_exporter": "python",
   "pygments_lexer": "ipython3",
   "version": 3
  },
  "orig_nbformat": 2
 },
 "nbformat": 4,
 "nbformat_minor": 2,
 "cells": [
  {
   "cell_type": "code",
   "execution_count": null,
   "metadata": {},
   "outputs": [],
   "source": [
    "# images to video\n",
    "import cv2\n",
    "import os\n",
    "import re\n",
    "from PIL import Image, ImageDraw, ImageFont\n",
    "import numpy as np\n",
    "def extract_number(filename):\n",
    "    match = re.search(r'\\d+', filename)\n",
    "    if match:\n",
    "        return int(match.group())\n",
    "    return 0  \n",
    "\n",
    "def images_to_video(image_folder, video_name, fps=30):\n",
    "    # get all the images\n",
    "    images = [img for img in os.listdir(image_folder) if img.endswith(\".jpg\") or img.endswith(\".png\")]\n",
    "    print(images)\n",
    "    # sort based on name\n",
    "    images.sort(key=extract_number)\n",
    "\n",
    "    frame = cv2.imread(os.path.join(image_folder, images[0]))\n",
    "    height, width, layers = frame.shape\n",
    "    \n",
    "\n",
    "    fourcc = cv2.VideoWriter_fourcc(*'mp4v')  \n",
    "    video = cv2.VideoWriter(video_name, fourcc, fps, (width, height))\n",
    "    \n",
    "\n",
    "    for image in images:\n",
    "        image = cv2.imread(os.path.join(image_folder, image))\n",
    "        pil_img = Image.fromarray(cv2.cvtColor(image, cv2.COLOR_BGR2RGB))\n",
    "\n",
    "        image = cv2.cvtColor(np.array(pil_img), cv2.COLOR_RGB2BGR)\n",
    "\n",
    "        video.write(image)\n",
    "    \n",
    "    # release\n",
    "    cv2.destroyAllWindows()\n",
    "    video.release()\n",
    "\n",
    "\n",
    "image_folder = 'path to your images'\n",
    "video_name = os.path.join(image_folder, 'output.mp4')  # name of output video\n",
    "\n",
    "fps = 30  \n",
    "\n",
    "images_to_video(image_folder, video_name, fps)\n",
    "\n",
    "print(\"done\")"
   ]
  }
 ]
}